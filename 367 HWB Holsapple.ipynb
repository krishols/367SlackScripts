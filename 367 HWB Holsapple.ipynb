{
 "cells": [
  {
   "cell_type": "code",
   "execution_count": 1,
   "metadata": {},
   "outputs": [
    {
     "name": "stdout",
     "output_type": "stream",
     "text": [
      "       thread     timestamp   speaker  \\\n",
      "0           1  1.546233e+09    Kandra   \n",
      "1           2  1.546234e+09    Nevada   \n",
      "2           2  1.546250e+09  Sharolyn   \n",
      "3           2  1.546251e+09    Nevada   \n",
      "4           2  1.546252e+09     Rubie   \n",
      "...       ...           ...       ...   \n",
      "17540    2488  1.559853e+09    Freeda   \n",
      "17541    2488  1.559853e+09   Clemmie   \n",
      "17542    2488  1.559853e+09      Bart   \n",
      "17543    2488  1.559857e+09     Sasha   \n",
      "17544    2488  1.559860e+09    Freeda   \n",
      "\n",
      "                                                 message  \n",
      "0                                                     Ok  \n",
      "1      Hello Guys i need help\\n\\nThe issue is: I want...  \n",
      "2      i have same  \"connection.ini\" files in differe...  \n",
      "3         may be  \"servername/connection/connection.ini\"  \n",
      "4      Morning this hopefully should be an easy one f...  \n",
      "...                                                  ...  \n",
      "17540  Anyone know of a library that would help me do...  \n",
      "17541  <@Bart> everything for packaging a python proj...  \n",
      "17542                                             thanks  \n",
      "17543  <@Freeda> You might look at PyGame... as I rec...  \n",
      "17544  Came across that recently while searching, see...  \n",
      "\n",
      "[17545 rows x 4 columns]\n"
     ]
    }
   ],
   "source": [
    "%run import_file.py 2019PythonData.csv"
   ]
  },
  {
   "cell_type": "code",
   "execution_count": 2,
   "metadata": {},
   "outputs": [],
   "source": [
    "%run urls.py 2019PythonData.csv complete_threads.xlsx 0"
   ]
  },
  {
   "cell_type": "code",
   "execution_count": 3,
   "metadata": {},
   "outputs": [],
   "source": [
    "%run api_in_text.py 2019PythonData.csv complete_threads.xlsx 2"
   ]
  },
  {
   "cell_type": "code",
   "execution_count": 4,
   "metadata": {},
   "outputs": [],
   "source": [
    "%run count_messages.py 2019PythonData.csv complete_threads.xlsx 3"
   ]
  },
  {
   "cell_type": "code",
   "execution_count": 5,
   "metadata": {},
   "outputs": [],
   "source": [
    "%run count_speakers.py 2019PythonData.csv complete_threads.xlsx 4"
   ]
  },
  {
   "cell_type": "markdown",
   "metadata": {},
   "source": []
  }
 ],
 "metadata": {
  "kernelspec": {
   "display_name": "Python 3",
   "language": "python",
   "name": "python3"
  },
  "language_info": {
   "codemirror_mode": {
    "name": "ipython",
    "version": 3
   },
   "file_extension": ".py",
   "mimetype": "text/x-python",
   "name": "python",
   "nbconvert_exporter": "python",
   "pygments_lexer": "ipython3",
   "version": "3.7.4"
  }
 },
 "nbformat": 4,
 "nbformat_minor": 4
}
